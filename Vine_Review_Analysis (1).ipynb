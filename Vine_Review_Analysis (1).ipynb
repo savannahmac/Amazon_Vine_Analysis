{
  "nbformat": 4,
  "nbformat_minor": 0,
  "metadata": {
    "colab": {
      "name": "Vine Review Analysis",
      "provenance": []
    },
    "kernelspec": {
      "name": "python3",
      "display_name": "Python 3"
    },
    "language_info": {
      "name": "python"
    }
  },
  "cells": [
    {
      "cell_type": "code",
      "metadata": {
        "id": "V58rxea0HqSa",
        "colab": {
          "base_uri": "https://localhost:8080/"
        },
        "outputId": "6b49064e-4ffa-4a3a-c4f3-3cc7f85a7ecd"
      },
      "source": [
        "import os\n",
        "# Find the latest version of spark 3.0 from http://www.apache.org/dist/spark/ and enter as the spark version\n",
        "# For example:\n",
        "# spark_version = 'spark-3.0.3'\n",
        "spark_version = 'spark-3.2.1'\n",
        "os.environ['SPARK_VERSION']=spark_version\n",
        "\n",
        "# Install Spark and Java\n",
        "!apt-get update\n",
        "!apt-get install openjdk-11-jdk-headless -qq > /dev/null\n",
        "!wget -q http://www.apache.org/dist/spark/$SPARK_VERSION/$SPARK_VERSION-bin-hadoop2.7.tgz\n",
        "!tar xf $SPARK_VERSION-bin-hadoop2.7.tgz\n",
        "!pip install -q findspark\n",
        "\n",
        "# Set Environment Variables\n",
        "import os\n",
        "os.environ[\"JAVA_HOME\"] = \"/usr/lib/jvm/java-11-openjdk-amd64\"\n",
        "os.environ[\"SPARK_HOME\"] = f\"/content/{spark_version}-bin-hadoop2.7\"\n",
        "\n",
        "# Start a SparkSession\n",
        "import findspark\n",
        "findspark.init()"
      ],
      "execution_count": 2,
      "outputs": [
        {
          "output_type": "stream",
          "name": "stdout",
          "text": [
            "\r0% [Working]\r            \rHit:1 https://cloud.r-project.org/bin/linux/ubuntu bionic-cran40/ InRelease\n",
            "\r0% [Connecting to archive.ubuntu.com (185.125.190.39)] [Connecting to security.\r0% [1 InRelease gpgv 3,626 B] [Connecting to archive.ubuntu.com (185.125.190.39\r                                                                               \rIgn:2 https://developer.download.nvidia.com/compute/cuda/repos/ubuntu1804/x86_64  InRelease\n",
            "\r0% [1 InRelease gpgv 3,626 B] [Waiting for headers] [Waiting for headers] [Wait\r                                                                               \rHit:3 http://security.ubuntu.com/ubuntu bionic-security InRelease\n",
            "\r0% [1 InRelease gpgv 3,626 B] [Waiting for headers] [Waiting for headers] [Wait\r                                                                               \rHit:4 http://archive.ubuntu.com/ubuntu bionic InRelease\n",
            "Hit:5 http://ppa.launchpad.net/c2d4u.team/c2d4u4.0+/ubuntu bionic InRelease\n",
            "Ign:6 https://developer.download.nvidia.com/compute/machine-learning/repos/ubuntu1804/x86_64  InRelease\n",
            "Hit:7 http://archive.ubuntu.com/ubuntu bionic-updates InRelease\n",
            "Hit:8 https://developer.download.nvidia.com/compute/cuda/repos/ubuntu1804/x86_64  Release\n",
            "Hit:9 https://developer.download.nvidia.com/compute/machine-learning/repos/ubuntu1804/x86_64  Release\n",
            "Hit:10 http://ppa.launchpad.net/cran/libgit2/ubuntu bionic InRelease\n",
            "Hit:11 http://archive.ubuntu.com/ubuntu bionic-backports InRelease\n",
            "Hit:12 http://ppa.launchpad.net/deadsnakes/ppa/ubuntu bionic InRelease\n",
            "Hit:13 http://ppa.launchpad.net/graphics-drivers/ppa/ubuntu bionic InRelease\n",
            "Reading package lists... Done\n"
          ]
        }
      ]
    },
    {
      "cell_type": "code",
      "metadata": {
        "id": "_xKwTpATHqSe",
        "colab": {
          "base_uri": "https://localhost:8080/"
        },
        "outputId": "3fdda887-73c7-491e-c423-d85ae1f56bac"
      },
      "source": [
        "# Download the Postgres driver that will allow Spark to interact with Postgres.\n",
        "!wget https://jdbc.postgresql.org/download/postgresql-42.2.16.jar"
      ],
      "execution_count": 4,
      "outputs": [
        {
          "output_type": "stream",
          "name": "stdout",
          "text": [
            "--2022-04-15 12:55:51--  https://jdbc.postgresql.org/download/postgresql-42.2.16.jar\n",
            "Resolving jdbc.postgresql.org (jdbc.postgresql.org)... 72.32.157.228, 2001:4800:3e1:1::228\n",
            "Connecting to jdbc.postgresql.org (jdbc.postgresql.org)|72.32.157.228|:443... connected.\n",
            "HTTP request sent, awaiting response... 200 OK\n",
            "Length: 1002883 (979K) [application/java-archive]\n",
            "Saving to: ‘postgresql-42.2.16.jar’\n",
            "\n",
            "postgresql-42.2.16. 100%[===================>] 979.38K  5.84MB/s    in 0.2s    \n",
            "\n",
            "2022-04-15 12:55:51 (5.84 MB/s) - ‘postgresql-42.2.16.jar’ saved [1002883/1002883]\n",
            "\n"
          ]
        }
      ]
    },
    {
      "cell_type": "code",
      "metadata": {
        "id": "MMqDAjVS0KN9"
      },
      "source": [
        "from pyspark.sql import SparkSession\n",
        "spark = SparkSession.builder.appName(\"Vine_Review_Analysis\").config(\"spark.driver.extraClassPath\",\"/content/postgresql-42.2.16.jar\").getOrCreate()"
      ],
      "execution_count": 3,
      "outputs": []
    },
    {
      "cell_type": "code",
      "metadata": {
        "id": "CtCmBhQJY-9Z",
        "colab": {
          "base_uri": "https://localhost:8080/"
        },
        "outputId": "3d6903a2-97eb-472b-a8d1-674e62c00912"
      },
      "source": [
        "from pyspark import SparkFiles\n",
        "url = \"https://vinekitchendata.s3.amazonaws.com/amazon_reviews_us_Kitchen_v1_00.tsv.gz\"\n",
        "spark.sparkContext.addFile(url)\n",
        "df = spark.read.option(\"encoding\", \"UTF-8\").csv(SparkFiles.get(\"amazon_reviews_us_Kitchen_v1_00.tsv.gz\"), sep=\"\\t\", header=True, inferSchema=True)\n",
        "df.show()"
      ],
      "execution_count": 5,
      "outputs": [
        {
          "output_type": "stream",
          "name": "stdout",
          "text": [
            "+-----------+-----------+--------------+----------+--------------+--------------------+----------------+-----------+-------------+-----------+----+-----------------+--------------------+--------------------+-----------+\n",
            "|marketplace|customer_id|     review_id|product_id|product_parent|       product_title|product_category|star_rating|helpful_votes|total_votes|vine|verified_purchase|     review_headline|         review_body|review_date|\n",
            "+-----------+-----------+--------------+----------+--------------+--------------------+----------------+-----------+-------------+-----------+----+-----------------+--------------------+--------------------+-----------+\n",
            "|         US|   37000337|R3DT59XH7HXR9K|B00303FI0G|     529320574|Arthur Court Pape...|         Kitchen|          5|            0|          0|   N|                Y|Beautiful. Looks ...|Beautiful.  Looks...| 2015-08-31|\n",
            "|         US|   15272914|R1LFS11BNASSU8|B00JCZKZN6|     274237558|Olde Thompson Bav...|         Kitchen|          5|            0|          1|   N|                Y| Awesome & Self-ness|I personally have...| 2015-08-31|\n",
            "|         US|   36137863|R296RT05AG0AF6|B00JLIKA5C|     544675303|Progressive Inter...|         Kitchen|          5|            0|          0|   N|                Y|Fabulous and wort...|Fabulous and wort...| 2015-08-31|\n",
            "|         US|   43311049|R3V37XDZ7ZCI3L|B000GBNB8G|     491599489|Zyliss Jumbo Garl...|         Kitchen|          5|            0|          1|   N|                Y|          Five Stars|A must if you lov...| 2015-08-31|\n",
            "|         US|   13763148|R14GU232NQFYX2|B00VJ5KX9S|     353790155|1 X Premier Pizza...|         Kitchen|          5|            0|          0|   N|                Y|     Better than sex|Worth every penny...| 2015-08-31|\n",
            "|         US|   19009420| RZQH4V7L2O1PL|B00HYB5YY0|     432241873|       CHEF Aluminum|         Kitchen|          1|            1|          1|   N|                Y|Does not work on ...|The description s...| 2015-08-31|\n",
            "|         US|   40599388|R1F8JMOSPJ3KO7|B000HEBAV2|     584680984|Presto Dual Profr...|         Kitchen|          5|            0|          0|   N|                Y|Awesome! First fr...|Awesome! First fr...| 2015-08-31|\n",
            "|         US|   22719359|R1ZISGY2BWW4Z5|B0012DS4GG|     772637306|Rubbermaid Produc...|         Kitchen|          5|            0|          0|   N|                Y|          Five Stars|Very good item. Q...| 2015-08-31|\n",
            "|         US|   47478640|R17PW4I3AE5WZW|B00FLQ4EE6|     755416578|Cuisinart 12-Piec...|         Kitchen|          5|            0|          0|   N|                Y|          Five Stars|sharp and look great| 2015-08-31|\n",
            "|         US|   34195504|R3D93G1KTP6A8P|B00DBS9OTG|     648762742|Kegco 6\" Stainles...|         Kitchen|          3|            0|          0|   N|                Y|         Three Stars|Should have come ...| 2015-08-31|\n",
            "|         US|   19100570|R18TQIW1NKPUNU|B00AN9UJ68|     495720940|Cuisinart Smart S...|         Kitchen|          5|            0|          0|   N|                Y|          Five Stars|  my friend loves it| 2015-08-31|\n",
            "|         US|   10299811|R34KUNL21WU248|B00L2P0KNO|      41330497|Searzall Torch At...|         Kitchen|          4|            0|          0|   N|                Y|          Four Stars|works as expected...| 2015-08-31|\n",
            "|         US|   32687006|R2YA1ZA53X12IN|B00NQOJQXY|     191893454|Wilton 1512-1664 ...|         Kitchen|          5|            0|          0|   N|                Y|               great|               great| 2015-08-31|\n",
            "|         US|   43260893|R2ZD1IGC9UU55X|B00080QE1Q|     277442428|Magnalite Classic...|         Kitchen|          5|            1|          1|   N|                Y|         Great Pots!|Fantastic product...| 2015-08-31|\n",
            "|         US|    8067227| R9J2YMVZTUVZ7|B009VU17ZM|     414077276|Sun's Tea(TM) 20o...|         Kitchen|          5|            0|          0|   N|                Y|          Five Stars|Work great, well ...| 2015-08-31|\n",
            "|         US|   18139929|R2UUXJ0WQR0CNI|B00MY71KO2|     138697457|Adventure Time Be...|         Kitchen|          4|            0|          0|   N|                Y|              So big|holds a loooot of...| 2015-08-31|\n",
            "|         US|   12282702|R3S9QICITG73JZ|B00A6N18CK|      48180946|DecoBros 3 Tier D...|         Kitchen|          5|            0|          0|   N|                Y|It looks nice & n...|The DecoBros K cu...| 2015-08-31|\n",
            "|         US|   38649737|R3LISNJHS64PDA|B00AB8NOLS|      67759108|Brita Water Filte...|         Kitchen|          4|            0|          0|   N|                Y|          Four Stars| Met my expectations| 2015-08-31|\n",
            "|         US|   33460969|R28RB82UG4RDD5|B00FB4UPA0|      10711472|Nifty Home 24 K-C...|         Kitchen|          5|           20|         20|   N|                Y| Saves counter space|Fits under my ful...| 2015-08-31|\n",
            "|         US|   40274860|R3H0PRVII5991X|B00YMHBQ0A|     618617346|Eoonfirst Snoopy ...|         Kitchen|          5|            0|          0|   N|                Y|          Five Stars|            Love it!| 2015-08-31|\n",
            "+-----------+-----------+--------------+----------+--------------+--------------------+----------------+-----------+-------------+-----------+----+-----------------+--------------------+--------------------+-----------+\n",
            "only showing top 20 rows\n",
            "\n"
          ]
        }
      ]
    },
    {
      "cell_type": "code",
      "source": [
        "clean_df = df.dropna()\n",
        "clean_df.show(5)"
      ],
      "metadata": {
        "colab": {
          "base_uri": "https://localhost:8080/"
        },
        "id": "1DL4w4khW4TB",
        "outputId": "89393235-2250-40ca-baf5-d9b41b0b15bb"
      },
      "execution_count": 14,
      "outputs": [
        {
          "output_type": "stream",
          "name": "stdout",
          "text": [
            "+-----------+-----------+--------------+----------+--------------+--------------------+----------------+-----------+-------------+-----------+----+-----------------+--------------------+--------------------+-----------+\n",
            "|marketplace|customer_id|     review_id|product_id|product_parent|       product_title|product_category|star_rating|helpful_votes|total_votes|vine|verified_purchase|     review_headline|         review_body|review_date|\n",
            "+-----------+-----------+--------------+----------+--------------+--------------------+----------------+-----------+-------------+-----------+----+-----------------+--------------------+--------------------+-----------+\n",
            "|         US|   37000337|R3DT59XH7HXR9K|B00303FI0G|     529320574|Arthur Court Pape...|         Kitchen|          5|            0|          0|   N|                Y|Beautiful. Looks ...|Beautiful.  Looks...| 2015-08-31|\n",
            "|         US|   15272914|R1LFS11BNASSU8|B00JCZKZN6|     274237558|Olde Thompson Bav...|         Kitchen|          5|            0|          1|   N|                Y| Awesome & Self-ness|I personally have...| 2015-08-31|\n",
            "|         US|   36137863|R296RT05AG0AF6|B00JLIKA5C|     544675303|Progressive Inter...|         Kitchen|          5|            0|          0|   N|                Y|Fabulous and wort...|Fabulous and wort...| 2015-08-31|\n",
            "|         US|   43311049|R3V37XDZ7ZCI3L|B000GBNB8G|     491599489|Zyliss Jumbo Garl...|         Kitchen|          5|            0|          1|   N|                Y|          Five Stars|A must if you lov...| 2015-08-31|\n",
            "|         US|   13763148|R14GU232NQFYX2|B00VJ5KX9S|     353790155|1 X Premier Pizza...|         Kitchen|          5|            0|          0|   N|                Y|     Better than sex|Worth every penny...| 2015-08-31|\n",
            "+-----------+-----------+--------------+----------+--------------+--------------------+----------------+-----------+-------------+-----------+----+-----------------+--------------------+--------------------+-----------+\n",
            "only showing top 5 rows\n",
            "\n"
          ]
        }
      ]
    },
    {
      "cell_type": "code",
      "metadata": {
        "id": "lzMmkdKmY--D",
        "colab": {
          "base_uri": "https://localhost:8080/"
        },
        "outputId": "906bd9c1-4f5a-4936-946a-5bc97e1fdb8f"
      },
      "source": [
        "# Create the vine_table. DataFrame\n",
        "vine_df = clean_df.select([\"review_id\", \"star_rating\", \"helpful_votes\", \"total_votes\", \"vine\", \"verified_purchase\"])\n",
        "vine_df.show(5)"
      ],
      "execution_count": 15,
      "outputs": [
        {
          "output_type": "stream",
          "name": "stdout",
          "text": [
            "+--------------+-----------+-------------+-----------+----+-----------------+\n",
            "|     review_id|star_rating|helpful_votes|total_votes|vine|verified_purchase|\n",
            "+--------------+-----------+-------------+-----------+----+-----------------+\n",
            "|R3DT59XH7HXR9K|          5|            0|          0|   N|                Y|\n",
            "|R1LFS11BNASSU8|          5|            0|          1|   N|                Y|\n",
            "|R296RT05AG0AF6|          5|            0|          0|   N|                Y|\n",
            "|R3V37XDZ7ZCI3L|          5|            0|          1|   N|                Y|\n",
            "|R14GU232NQFYX2|          5|            0|          0|   N|                Y|\n",
            "+--------------+-----------+-------------+-----------+----+-----------------+\n",
            "only showing top 5 rows\n",
            "\n"
          ]
        }
      ]
    },
    {
      "cell_type": "code",
      "source": [
        "# Retrieve the rows where the total vote count is greater than 20\n",
        "from pyspark.sql.functions import col\n",
        "total_df = vine_df.filter(col(\"total_votes\") >= 20)\n",
        "total_df.show()"
      ],
      "metadata": {
        "colab": {
          "base_uri": "https://localhost:8080/"
        },
        "id": "ql8g4c1MU9i7",
        "outputId": "fe4d8b40-7f93-4a81-c477-ce0c58a45396"
      },
      "execution_count": 16,
      "outputs": [
        {
          "output_type": "stream",
          "name": "stdout",
          "text": [
            "+--------------+-----------+-------------+-----------+----+-----------------+\n",
            "|     review_id|star_rating|helpful_votes|total_votes|vine|verified_purchase|\n",
            "+--------------+-----------+-------------+-----------+----+-----------------+\n",
            "|R28RB82UG4RDD5|          5|           20|         20|   N|                Y|\n",
            "|R3FB6BERWPEIJP|          4|           40|         43|   N|                Y|\n",
            "|R1D4Z38STRDQXK|          5|           53|         56|   N|                Y|\n",
            "|R1XMWJZICINIFX|          3|           20|         21|   N|                Y|\n",
            "|R20QKY1GABXFLM|          1|          272|        297|   N|                Y|\n",
            "|R3GZ7CK2O1PPG0|          2|           10|         30|   N|                Y|\n",
            "|R328FA1E6FY3F5|          5|           17|         20|   N|                N|\n",
            "|R3DH22AA5WGLLS|          5|           30|         30|   N|                N|\n",
            "|R1E0E5EFZSLJCS|          1|           66|         80|   N|                Y|\n",
            "|R1TXZQWEHYWEWN|          2|           48|         51|   N|                Y|\n",
            "| RQQAI8YL3UCY2|          5|           23|         25|   N|                Y|\n",
            "|R3PZNAQREFUNJ7|          4|           28|         35|   N|                Y|\n",
            "|R1ZUNUSUEA5D0T|          2|           17|         20|   N|                Y|\n",
            "|R3SHJSHTY8AXKR|          5|           69|         72|   N|                Y|\n",
            "|R2QM1JXA2XI7XA|          3|           61|         68|   N|                Y|\n",
            "|R1SVJ6XDBCQNSN|          3|           29|         30|   N|                Y|\n",
            "|R1IEABNX71GK3B|          1|           54|         58|   N|                N|\n",
            "|R16QL1GNQVT4G9|          5|          117|        119|   N|                Y|\n",
            "|R1MV4YDD6O5UME|          5|           30|         32|   N|                N|\n",
            "|R3A8EHXA0JX7WV|          5|           18|         24|   N|                N|\n",
            "+--------------+-----------+-------------+-----------+----+-----------------+\n",
            "only showing top 20 rows\n",
            "\n"
          ]
        }
      ]
    },
    {
      "cell_type": "code",
      "source": [
        "# Retrieve the rows where the number of helpful votes divided by the number of total votes is greater than 50%\n",
        "helpful_df = total_df.withColumn('percent_helpful_votes',col('helpful_votes')/col('total_votes')).alias('percent_helpful_votes').filter(col('percent_helpful_votes') >= 0.5)\n",
        "helpful_df.show()"
      ],
      "metadata": {
        "colab": {
          "base_uri": "https://localhost:8080/"
        },
        "id": "6UqpuF2FVd8m",
        "outputId": "9aa6f627-6fa1-4757-c558-486f622bddf7"
      },
      "execution_count": 19,
      "outputs": [
        {
          "output_type": "stream",
          "name": "stdout",
          "text": [
            "+--------------+-----------+-------------+-----------+----+-----------------+---------------------+\n",
            "|     review_id|star_rating|helpful_votes|total_votes|vine|verified_purchase|percent_helpful_votes|\n",
            "+--------------+-----------+-------------+-----------+----+-----------------+---------------------+\n",
            "|R28RB82UG4RDD5|          5|           20|         20|   N|                Y|                  1.0|\n",
            "|R3FB6BERWPEIJP|          4|           40|         43|   N|                Y|   0.9302325581395349|\n",
            "|R1D4Z38STRDQXK|          5|           53|         56|   N|                Y|   0.9464285714285714|\n",
            "|R1XMWJZICINIFX|          3|           20|         21|   N|                Y|   0.9523809523809523|\n",
            "|R20QKY1GABXFLM|          1|          272|        297|   N|                Y|   0.9158249158249159|\n",
            "|R328FA1E6FY3F5|          5|           17|         20|   N|                N|                 0.85|\n",
            "|R3DH22AA5WGLLS|          5|           30|         30|   N|                N|                  1.0|\n",
            "|R1E0E5EFZSLJCS|          1|           66|         80|   N|                Y|                0.825|\n",
            "|R1TXZQWEHYWEWN|          2|           48|         51|   N|                Y|   0.9411764705882353|\n",
            "| RQQAI8YL3UCY2|          5|           23|         25|   N|                Y|                 0.92|\n",
            "|R3PZNAQREFUNJ7|          4|           28|         35|   N|                Y|                  0.8|\n",
            "|R1ZUNUSUEA5D0T|          2|           17|         20|   N|                Y|                 0.85|\n",
            "|R3SHJSHTY8AXKR|          5|           69|         72|   N|                Y|   0.9583333333333334|\n",
            "|R2QM1JXA2XI7XA|          3|           61|         68|   N|                Y|   0.8970588235294118|\n",
            "|R1SVJ6XDBCQNSN|          3|           29|         30|   N|                Y|   0.9666666666666667|\n",
            "|R1IEABNX71GK3B|          1|           54|         58|   N|                N|   0.9310344827586207|\n",
            "|R16QL1GNQVT4G9|          5|          117|        119|   N|                Y|   0.9831932773109243|\n",
            "|R1MV4YDD6O5UME|          5|           30|         32|   N|                N|               0.9375|\n",
            "|R3A8EHXA0JX7WV|          5|           18|         24|   N|                N|                 0.75|\n",
            "|R2M7TEVV9YSLTR|          5|           94|         96|   N|                Y|   0.9791666666666666|\n",
            "+--------------+-----------+-------------+-----------+----+-----------------+---------------------+\n",
            "only showing top 20 rows\n",
            "\n"
          ]
        }
      ]
    },
    {
      "cell_type": "code",
      "source": [
        "# Retrieve the entries where the vine reviews were helpful\n",
        "helpful_vine_df = helpful_df.filter(col(\"vine\") == 'Y')\n",
        "helpful_vine_df.show()"
      ],
      "metadata": {
        "colab": {
          "base_uri": "https://localhost:8080/"
        },
        "id": "clk314MfXaEK",
        "outputId": "4f270aac-81e0-4e0b-e441-a6572634a46d"
      },
      "execution_count": 21,
      "outputs": [
        {
          "output_type": "stream",
          "name": "stdout",
          "text": [
            "+--------------+-----------+-------------+-----------+----+-----------------+---------------------+\n",
            "|     review_id|star_rating|helpful_votes|total_votes|vine|verified_purchase|percent_helpful_votes|\n",
            "+--------------+-----------+-------------+-----------+----+-----------------+---------------------+\n",
            "|R1Z71RW4J9IK93|          5|           20|         22|   Y|                N|   0.9090909090909091|\n",
            "|R3FVB5QI11KI9Q|          4|          192|        200|   Y|                N|                 0.96|\n",
            "|R2G027YBMVXV6Y|          5|           39|         48|   Y|                N|               0.8125|\n",
            "|R1QGBAN7BMGWRR|          5|          121|        129|   Y|                N|    0.937984496124031|\n",
            "|R2NH2AU7XL9ZDZ|          3|           18|         20|   Y|                N|                  0.9|\n",
            "|R2YVVJ9NOPNX50|          4|           36|         41|   Y|                N|   0.8780487804878049|\n",
            "|R1XH1LK1FWX3OS|          4|          214|        238|   Y|                N|   0.8991596638655462|\n",
            "|R38LSQ71G2IZGS|          5|           26|         29|   Y|                N|    0.896551724137931|\n",
            "|R2FLITQVKWXDF4|          3|           26|         34|   Y|                N|   0.7647058823529411|\n",
            "|R25LMMZF3DJTWY|          2|           18|         21|   Y|                N|   0.8571428571428571|\n",
            "|R18NC69T0KEC00|          5|           20|         23|   Y|                N|   0.8695652173913043|\n",
            "| ROYYZ0D9LMYS3|          5|           25|         33|   Y|                N|   0.7575757575757576|\n",
            "|R223CE6ERRBPRZ|          4|           82|         87|   Y|                N|   0.9425287356321839|\n",
            "|R1THPHKHO1BPRZ|          5|           15|         20|   Y|                N|                 0.75|\n",
            "|R11K4PQS62ROLS|          5|           72|         75|   Y|                N|                 0.96|\n",
            "| R6AZL5SA22ITL|          1|           66|         70|   Y|                N|   0.9428571428571428|\n",
            "| R4J2O4EHK73PR|          3|           46|         63|   Y|                N|   0.7301587301587301|\n",
            "| RMBQSVTJWY2A2|          5|           26|         28|   Y|                N|   0.9285714285714286|\n",
            "| RXLOQIB7S4OKN|          5|           31|         33|   Y|                N|   0.9393939393939394|\n",
            "| RLG9MEHTAGWL6|          5|           57|         63|   Y|                N|   0.9047619047619048|\n",
            "+--------------+-----------+-------------+-----------+----+-----------------+---------------------+\n",
            "only showing top 20 rows\n",
            "\n"
          ]
        }
      ]
    },
    {
      "cell_type": "code",
      "source": [
        "# Retrieve the entries where the non-vine reviews were helpful\n",
        "helpful_nv_df = helpful_df.filter(col(\"vine\") == 'N')\n",
        "helpful_nv_df.show()"
      ],
      "metadata": {
        "colab": {
          "base_uri": "https://localhost:8080/"
        },
        "id": "hV9e4Q2vX5Bg",
        "outputId": "2f0f62e6-b9a8-4261-80db-e5a140d91ba6"
      },
      "execution_count": 22,
      "outputs": [
        {
          "output_type": "stream",
          "name": "stdout",
          "text": [
            "+--------------+-----------+-------------+-----------+----+-----------------+---------------------+\n",
            "|     review_id|star_rating|helpful_votes|total_votes|vine|verified_purchase|percent_helpful_votes|\n",
            "+--------------+-----------+-------------+-----------+----+-----------------+---------------------+\n",
            "|R28RB82UG4RDD5|          5|           20|         20|   N|                Y|                  1.0|\n",
            "|R3FB6BERWPEIJP|          4|           40|         43|   N|                Y|   0.9302325581395349|\n",
            "|R1D4Z38STRDQXK|          5|           53|         56|   N|                Y|   0.9464285714285714|\n",
            "|R1XMWJZICINIFX|          3|           20|         21|   N|                Y|   0.9523809523809523|\n",
            "|R20QKY1GABXFLM|          1|          272|        297|   N|                Y|   0.9158249158249159|\n",
            "|R328FA1E6FY3F5|          5|           17|         20|   N|                N|                 0.85|\n",
            "|R3DH22AA5WGLLS|          5|           30|         30|   N|                N|                  1.0|\n",
            "|R1E0E5EFZSLJCS|          1|           66|         80|   N|                Y|                0.825|\n",
            "|R1TXZQWEHYWEWN|          2|           48|         51|   N|                Y|   0.9411764705882353|\n",
            "| RQQAI8YL3UCY2|          5|           23|         25|   N|                Y|                 0.92|\n",
            "|R3PZNAQREFUNJ7|          4|           28|         35|   N|                Y|                  0.8|\n",
            "|R1ZUNUSUEA5D0T|          2|           17|         20|   N|                Y|                 0.85|\n",
            "|R3SHJSHTY8AXKR|          5|           69|         72|   N|                Y|   0.9583333333333334|\n",
            "|R2QM1JXA2XI7XA|          3|           61|         68|   N|                Y|   0.8970588235294118|\n",
            "|R1SVJ6XDBCQNSN|          3|           29|         30|   N|                Y|   0.9666666666666667|\n",
            "|R1IEABNX71GK3B|          1|           54|         58|   N|                N|   0.9310344827586207|\n",
            "|R16QL1GNQVT4G9|          5|          117|        119|   N|                Y|   0.9831932773109243|\n",
            "|R1MV4YDD6O5UME|          5|           30|         32|   N|                N|               0.9375|\n",
            "|R3A8EHXA0JX7WV|          5|           18|         24|   N|                N|                 0.75|\n",
            "|R2M7TEVV9YSLTR|          5|           94|         96|   N|                Y|   0.9791666666666666|\n",
            "+--------------+-----------+-------------+-----------+----+-----------------+---------------------+\n",
            "only showing top 20 rows\n",
            "\n"
          ]
        }
      ]
    },
    {
      "cell_type": "code",
      "source": [
        "# Determine the total number of reviews, the number of 5-star reviews, and the percentage of 5-star reviews for the two types of review (paid vs unpaid)\n",
        "# https://courses.bootcampspot.com/courses/1066/pages/16-dot-4-3-spark-functions?module_item_id=398315\n",
        "# https://spark.apache.org/docs/latest/api/python/reference/api/pyspark.sql.GroupedData.agg.html\n",
        "from pyspark.sql.functions import when,count,lit\n",
        "ratings_overview_df = helpful_df.groupBy(\"vine\").agg(\n",
        "    count(col(\"vine\")).alias(\"Total_Reviews\"),\n",
        "    count(when(col(\"star_rating\") == 5, True)).alias(\"Total_5_Star_Reviews\"),\n",
        "    (count(when(col(\"star_rating\") == 5, True))/count(col(\"vine\"))*100).alias(\"%_5_Star_To_Total\"))\n",
        "ratings_overview_df.show()"
      ],
      "metadata": {
        "colab": {
          "base_uri": "https://localhost:8080/"
        },
        "id": "mSeS3akHYOrs",
        "outputId": "6273197a-679d-4b7d-de78-f32a5c1a5b24"
      },
      "execution_count": 25,
      "outputs": [
        {
          "output_type": "stream",
          "name": "stdout",
          "text": [
            "+----+-------------+--------------------+------------------+\n",
            "|vine|Total_Reviews|Total_5_Star_Reviews| %_5_Star_To_Total|\n",
            "+----+-------------+--------------------+------------------+\n",
            "|   Y|         1207|                 509| 42.17067108533554|\n",
            "|   N|        97810|               45846|46.872507923525205|\n",
            "+----+-------------+--------------------+------------------+\n",
            "\n"
          ]
        }
      ]
    }
  ]
}